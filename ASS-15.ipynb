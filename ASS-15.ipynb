{
 "cells": [
  {
   "cell_type": "markdown",
   "id": "eb9e43b3-cffc-46de-af37-0a7a97c7546f",
   "metadata": {},
   "source": [
    "# Q1. What is MongoDB? Explain non-relational databases in short. In which scenarios it is preferred to use MongoDB over SQL databases?"
   ]
  },
  {
   "cell_type": "markdown",
   "id": "3ea5f9f8-fbe0-4e85-b89a-ffb2bb0d9013",
   "metadata": {},
   "source": [
    "# ANS\n",
    "MongoDB is a document-oriented NoSQL database that is designed to store and manage unstructured and semi-structured data. It uses JSON-like documents with dynamic schemas, making it flexible and scalable.\n",
    "\n",
    "Non-relational databases, also known as NoSQL databases, are a type of database that do not use the traditional table-based structure of relational databases. Instead, they use a variety of data models such as document-oriented, key-value, graph, or column-family to store and manage data. Non-relational databases are often chosen for their scalability, flexibility, and ability to handle unstructured and semi-structured data.\n",
    "\n",
    "MongoDB is preferred over SQL databases in scenarios where the data is unstructured or semi-structured, and where the schema is constantly changing. This makes it well-suited for applications that require fast and agile development, as well as those that require high scalability and performance. Some examples of scenarios where MongoDB may be preferred over SQL databases include real-time analytics, content management systems, social networks, and e-commerce platforms. Additionally, MongoDB's ability to handle large volumes of data and its support for geospatial data also make it a popular choice for applications such as location-based services and IoT (Internet of Things) platforms."
   ]
  },
  {
   "cell_type": "markdown",
   "id": "05f83dbf-63de-4570-8b58-b83067abf4d8",
   "metadata": {},
   "source": [
    "# Q2. State and Explain the features of MongoDB ?"
   ]
  },
  {
   "cell_type": "markdown",
   "id": "316eaccf-0a96-420d-817a-86add0efc877",
   "metadata": {},
   "source": [
    "# ANS\n",
    "MongoDB offers a number of features that make it a popular choice for managing unstructured and semi-structured data:\n",
    "\n",
    "Document-oriented: MongoDB stores data in JSON-like documents with dynamic schemas. This makes it flexible and adaptable to changing data structures.\n",
    "\n",
    "High performance: MongoDB is designed for high performance and can handle large volumes of data. It also offers features such as indexing and sharding for improved performance.\n",
    "\n",
    "Scalability: MongoDB can be easily scaled horizontally across multiple servers, making it well-suited for large-scale applications.\n",
    "\n",
    "Aggregation framework: MongoDB offers a powerful aggregation framework that allows for complex queries and data analysis.\n",
    "\n",
    "Replication and high availability: MongoDB supports replication and automatic failover, ensuring high availability and data redundancy.\n",
    "\n",
    "Geospatial indexing: MongoDB supports geospatial indexing, making it well-suited for location-based applications.\n",
    "\n",
    "Support for multiple programming languages: MongoDB offers drivers and APIs for a variety of programming languages, making it easy to integrate with existing applications.\n",
    "\n",
    "Flexible data modeling: MongoDB's flexible data modeling allows for easy management of complex data structures, and can handle both structured and unstructured data.\n",
    "\n",
    "Easy deployment: MongoDB can be easily deployed on-premises or in the cloud, and offers a variety of deployment options such as MongoDB Atlas, a fully-managed cloud service.\n",
    "\n",
    "Overall, MongoDB's flexibility, scalability, and performance make it a popular choice for managing unstructured and semi-structured data in a variety of applications.\n",
    "\n",
    "\n",
    "\n",
    "\n",
    "\n"
   ]
  },
  {
   "cell_type": "markdown",
   "id": "d22da2c9-fde0-4bd1-81b2-c32eba82ac9e",
   "metadata": {},
   "source": [
    "# Q3. Write a code to connect MongoDB to Python. Also, create a database and a collection in MongoDB ?"
   ]
  },
  {
   "cell_type": "code",
   "execution_count": 2,
   "id": "79f93915-d55e-413e-bc7a-9eaacace1d54",
   "metadata": {},
   "outputs": [
    {
     "ename": "ModuleNotFoundError",
     "evalue": "No module named 'pymongo'",
     "output_type": "error",
     "traceback": [
      "\u001b[0;31m---------------------------------------------------------------------------\u001b[0m",
      "\u001b[0;31mModuleNotFoundError\u001b[0m                       Traceback (most recent call last)",
      "Cell \u001b[0;32mIn[2], line 3\u001b[0m\n\u001b[1;32m      1\u001b[0m \u001b[38;5;66;03m# ANS\u001b[39;00m\n\u001b[1;32m      2\u001b[0m \u001b[38;5;66;03m# Import the required packages\u001b[39;00m\n\u001b[0;32m----> 3\u001b[0m \u001b[38;5;28;01mfrom\u001b[39;00m \u001b[38;5;21;01mpymongo\u001b[39;00m \u001b[38;5;28;01mimport\u001b[39;00m MongoClient\n\u001b[1;32m      5\u001b[0m \u001b[38;5;66;03m# Connect to MongoDB\u001b[39;00m\n\u001b[1;32m      6\u001b[0m client \u001b[38;5;241m=\u001b[39m MongoClient(\u001b[38;5;124m'\u001b[39m\u001b[38;5;124mmongodb://localhost:27017/\u001b[39m\u001b[38;5;124m'\u001b[39m)\n",
      "\u001b[0;31mModuleNotFoundError\u001b[0m: No module named 'pymongo'"
     ]
    }
   ],
   "source": [
    "# ANS\n",
    "# Import the required packages\n",
    "from pymongo import MongoClient\n",
    "\n",
    "# Connect to MongoDB\n",
    "client = MongoClient('mongodb://localhost:27017/')\n",
    "\n",
    "# Create a database\n",
    "db = client['mydatabase']\n",
    "\n",
    "# Create a collection\n",
    "collection = db['mycollection']\n",
    "\n",
    "# Insert a document into the collection\n",
    "document = {\"name\": \"John\", \"age\": 25, \"city\": \"New York\"}\n",
    "collection.insert_one(document)\n",
    "# In the above code, we first import the MongoClient package from the pymongo library. We then connect to MongoDB by specifying the connection string, which in this case is mongodb://localhost:27017/. This connects to a MongoDB server running on the local machine on the default port.\n",
    "\n",
    "# Next, we create a database called mydatabase using the client object. We then create a collection called mycollection within the mydatabase database using the db object.\n",
    "\n",
    "# Finally, we insert a document into the mycollection collection using the insert_one() method. The document is a dictionary with three key-value pairs representing the name, age, and city of a person.\n",
    "\n",
    "# Note that if the database or collection does not exist, MongoDB will create it automatically when we insert data into it."
   ]
  },
  {
   "cell_type": "markdown",
   "id": "7dd37b2f-da38-450a-af6b-9a80002db155",
   "metadata": {},
   "source": [
    "# Q4. Using the database and the collection created in question number 3, write a code to insert one record, and insert many records. Use the find() and find_one() methods to print the inserted record ?"
   ]
  },
  {
   "cell_type": "code",
   "execution_count": 3,
   "id": "08f237eb-afe8-4a13-87c8-f2c16f1eb4fc",
   "metadata": {},
   "outputs": [
    {
     "ename": "ModuleNotFoundError",
     "evalue": "No module named 'pymongo'",
     "output_type": "error",
     "traceback": [
      "\u001b[0;31m---------------------------------------------------------------------------\u001b[0m",
      "\u001b[0;31mModuleNotFoundError\u001b[0m                       Traceback (most recent call last)",
      "Cell \u001b[0;32mIn[3], line 3\u001b[0m\n\u001b[1;32m      1\u001b[0m \u001b[38;5;66;03m# ANS\u001b[39;00m\n\u001b[1;32m      2\u001b[0m \u001b[38;5;66;03m# Import the required packages\u001b[39;00m\n\u001b[0;32m----> 3\u001b[0m \u001b[38;5;28;01mfrom\u001b[39;00m \u001b[38;5;21;01mpymongo\u001b[39;00m \u001b[38;5;28;01mimport\u001b[39;00m MongoClient\n\u001b[1;32m      5\u001b[0m \u001b[38;5;66;03m# Connect to MongoDB\u001b[39;00m\n\u001b[1;32m      6\u001b[0m client \u001b[38;5;241m=\u001b[39m MongoClient(\u001b[38;5;124m'\u001b[39m\u001b[38;5;124mmongodb://localhost:27017/\u001b[39m\u001b[38;5;124m'\u001b[39m)\n",
      "\u001b[0;31mModuleNotFoundError\u001b[0m: No module named 'pymongo'"
     ]
    }
   ],
   "source": [
    "# ANS\n",
    "# Import the required packages\n",
    "from pymongo import MongoClient\n",
    "\n",
    "# Connect to MongoDB\n",
    "client = MongoClient('mongodb://localhost:27017/')\n",
    "\n",
    "# Access the database and collection\n",
    "db = client['mydatabase']\n",
    "collection = db['mycollection']\n",
    "\n",
    "# Insert one record\n",
    "document = {\"name\": \"Alice\", \"age\": 30, \"city\": \"Los Angeles\"}\n",
    "result = collection.insert_one(document)\n",
    "print(\"Inserted ID:\", result.inserted_id)\n",
    "\n",
    "# Insert multiple records\n",
    "documents = [\n",
    "    {\"name\": \"Bob\", \"age\": 35, \"city\": \"San Francisco\"},\n",
    "    {\"name\": \"Charlie\", \"age\": 40, \"city\": \"Seattle\"},\n",
    "    {\"name\": \"David\", \"age\": 45, \"city\": \"Portland\"}\n",
    "]\n",
    "result = collection.insert_many(documents)\n",
    "print(\"Inserted IDs:\", result.inserted_ids)\n",
    "\n",
    "# Print the inserted records\n",
    "print(\"\\nFind one record:\")\n",
    "print(collection.find_one({\"name\": \"Alice\"}))\n",
    "\n",
    "print(\"\\nFind all records:\")\n",
    "for record in collection.find():\n",
    "    print(record)\n"
   ]
  },
  {
   "cell_type": "markdown",
   "id": "589ace68-206d-4123-a204-4996ea53e3d3",
   "metadata": {},
   "source": [
    "# Q5. Explain how you can use the find() method to query the MongoDB database. Write a simple code to demonstrate this ?"
   ]
  },
  {
   "cell_type": "markdown",
   "id": "9cf65b35-b0aa-462b-910b-8dfcec82441b",
   "metadata": {},
   "source": [
    "The find() method is used to query the MongoDB database and retrieve documents that match a specific criteria. It can be used to retrieve a single document or multiple documents from a collection.\n",
    "\n",
    "To use the find() method, we need to specify a query parameter that defines the criteria for selecting documents. This query parameter is a dictionary that specifies one or more key-value pairs representing the field and value to match. For example, we can find all documents where the \"city\" field is equal to \"New York\" using the following query:"
   ]
  },
  {
   "cell_type": "code",
   "execution_count": 4,
   "id": "f7f9c9ea-7a06-4e02-8f54-b30ac43a2191",
   "metadata": {},
   "outputs": [],
   "source": [
    "query = {\"city\": \"New York\"}\n"
   ]
  },
  {
   "cell_type": "code",
   "execution_count": 5,
   "id": "17875e76-eb75-4d07-a0d2-251c74def40f",
   "metadata": {},
   "outputs": [
    {
     "ename": "ModuleNotFoundError",
     "evalue": "No module named 'pymongo'",
     "output_type": "error",
     "traceback": [
      "\u001b[0;31m---------------------------------------------------------------------------\u001b[0m",
      "\u001b[0;31mModuleNotFoundError\u001b[0m                       Traceback (most recent call last)",
      "Cell \u001b[0;32mIn[5], line 2\u001b[0m\n\u001b[1;32m      1\u001b[0m \u001b[38;5;66;03m# Import the required packages\u001b[39;00m\n\u001b[0;32m----> 2\u001b[0m \u001b[38;5;28;01mfrom\u001b[39;00m \u001b[38;5;21;01mpymongo\u001b[39;00m \u001b[38;5;28;01mimport\u001b[39;00m MongoClient\n\u001b[1;32m      4\u001b[0m \u001b[38;5;66;03m# Connect to MongoDB\u001b[39;00m\n\u001b[1;32m      5\u001b[0m client \u001b[38;5;241m=\u001b[39m MongoClient(\u001b[38;5;124m'\u001b[39m\u001b[38;5;124mmongodb://localhost:27017/\u001b[39m\u001b[38;5;124m'\u001b[39m)\n",
      "\u001b[0;31mModuleNotFoundError\u001b[0m: No module named 'pymongo'"
     ]
    }
   ],
   "source": [
    "# Import the required packages\n",
    "from pymongo import MongoClient\n",
    "\n",
    "# Connect to MongoDB\n",
    "client = MongoClient('mongodb://localhost:27017/')\n",
    "\n",
    "# Access the database and collection\n",
    "db = client['mydatabase']\n",
    "collection = db['mycollection']\n",
    "\n",
    "# Insert some records into the collection\n",
    "documents = [\n",
    "    {\"name\": \"Alice\", \"age\": 30, \"city\": \"New York\"},\n",
    "    {\"name\": \"Bob\", \"age\": 35, \"city\": \"San Francisco\"},\n",
    "    {\"name\": \"Charlie\", \"age\": 40, \"city\": \"Seattle\"},\n",
    "    {\"name\": \"David\", \"age\": 45, \"city\": \"Portland\"}\n",
    "]\n",
    "result = collection.insert_many(documents)\n",
    "\n",
    "# Query the collection\n",
    "query = {\"city\": \"New York\"}\n",
    "result = collection.find(query)\n",
    "\n",
    "# Print the query results\n",
    "print(\"Query results:\")\n",
    "for record in result:\n",
    "    print(record)\n"
   ]
  },
  {
   "cell_type": "markdown",
   "id": "11e2691e-38d6-44f9-a24b-06576425ef2f",
   "metadata": {},
   "source": [
    "# Q6. Explain the sort() method. Give an example to demonstrate sorting in MongoDB ?"
   ]
  },
  {
   "cell_type": "markdown",
   "id": "00a1cfc3-0b4a-407f-b18d-2f9b75ca966d",
   "metadata": {},
   "source": [
    "The sort() method in MongoDB is used to sort the documents in a collection based on one or more fields. It takes one parameter, which is a dictionary that specifies the fields to sort by and the order of sorting.\n",
    "\n",
    "The dictionary should have one or more key-value pairs, where the key represents the field to sort by, and the value represents the sort order. The value should be either 1 or -1, where 1 represents ascending order and -1 represents descending order.\n",
    "\n",
    "For example, to sort a collection by the \"age\" field in ascending order, we can use the following sort query:"
   ]
  },
  {
   "cell_type": "code",
   "execution_count": 6,
   "id": "e90395f3-612c-4de5-ba1a-39d6f4b72060",
   "metadata": {},
   "outputs": [
    {
     "ename": "NameError",
     "evalue": "name 'collection' is not defined",
     "output_type": "error",
     "traceback": [
      "\u001b[0;31m---------------------------------------------------------------------------\u001b[0m",
      "\u001b[0;31mNameError\u001b[0m                                 Traceback (most recent call last)",
      "Cell \u001b[0;32mIn[6], line 1\u001b[0m\n\u001b[0;32m----> 1\u001b[0m query \u001b[38;5;241m=\u001b[39m \u001b[43mcollection\u001b[49m\u001b[38;5;241m.\u001b[39mfind()\u001b[38;5;241m.\u001b[39msort(\u001b[38;5;124m\"\u001b[39m\u001b[38;5;124mage\u001b[39m\u001b[38;5;124m\"\u001b[39m, \u001b[38;5;241m1\u001b[39m)\n",
      "\u001b[0;31mNameError\u001b[0m: name 'collection' is not defined"
     ]
    }
   ],
   "source": [
    "query = collection.find().sort(\"age\", 1)\n"
   ]
  },
  {
   "cell_type": "code",
   "execution_count": 7,
   "id": "40ca217e-8634-4f0e-84da-575ca1ae62e9",
   "metadata": {},
   "outputs": [
    {
     "ename": "ModuleNotFoundError",
     "evalue": "No module named 'pymongo'",
     "output_type": "error",
     "traceback": [
      "\u001b[0;31m---------------------------------------------------------------------------\u001b[0m",
      "\u001b[0;31mModuleNotFoundError\u001b[0m                       Traceback (most recent call last)",
      "Cell \u001b[0;32mIn[7], line 5\u001b[0m\n\u001b[1;32m      1\u001b[0m \u001b[38;5;66;03m# n the above query, collection.find() returns all the documents in the collection, and sort(\"age\", 1) sorts the documents by the \"age\" field in ascending order.\u001b[39;00m\n\u001b[1;32m      2\u001b[0m \n\u001b[1;32m      3\u001b[0m \u001b[38;5;66;03m# Here's an example code that demonstrates sorting in MongoDB:\u001b[39;00m\n\u001b[1;32m      4\u001b[0m \u001b[38;5;66;03m# Import the required packages\u001b[39;00m\n\u001b[0;32m----> 5\u001b[0m \u001b[38;5;28;01mfrom\u001b[39;00m \u001b[38;5;21;01mpymongo\u001b[39;00m \u001b[38;5;28;01mimport\u001b[39;00m MongoClient\n\u001b[1;32m      7\u001b[0m \u001b[38;5;66;03m# Connect to MongoDB\u001b[39;00m\n\u001b[1;32m      8\u001b[0m client \u001b[38;5;241m=\u001b[39m MongoClient(\u001b[38;5;124m'\u001b[39m\u001b[38;5;124mmongodb://localhost:27017/\u001b[39m\u001b[38;5;124m'\u001b[39m)\n",
      "\u001b[0;31mModuleNotFoundError\u001b[0m: No module named 'pymongo'"
     ]
    }
   ],
   "source": [
    "# n the above query, collection.find() returns all the documents in the collection, and sort(\"age\", 1) sorts the documents by the \"age\" field in ascending order.\n",
    "\n",
    "# Here's an example code that demonstrates sorting in MongoDB:\n",
    "# Import the required packages\n",
    "from pymongo import MongoClient\n",
    "\n",
    "# Connect to MongoDB\n",
    "client = MongoClient('mongodb://localhost:27017/')\n",
    "\n",
    "# Access the database and collection\n",
    "db = client['mydatabase']\n",
    "collection = db['mycollection']\n",
    "\n",
    "# Insert some records into the collection\n",
    "documents = [\n",
    "    {\"name\": \"Alice\", \"age\": 30, \"city\": \"New York\"},\n",
    "    {\"name\": \"Bob\", \"age\": 35, \"city\": \"San Francisco\"},\n",
    "    {\"name\": \"Charlie\", \"age\": 40, \"city\": \"Seattle\"},\n",
    "    {\"name\": \"David\", \"age\": 45, \"city\": \"Portland\"}\n",
    "]\n",
    "result = collection.insert_many(documents)\n",
    "\n",
    "# Query the collection and sort by age\n",
    "query = collection.find().sort(\"age\", 1)\n",
    "\n",
    "# Print the sorted results\n",
    "print(\"Sorted results:\")\n",
    "for record in query:\n",
    "    print(record)\n"
   ]
  },
  {
   "cell_type": "markdown",
   "id": "b7d40d53-9979-43af-8f89-692071d6d707",
   "metadata": {},
   "source": [
    "# Q7. Explain why delete_one(), delete_many(), and drop() is used ?"
   ]
  },
  {
   "cell_type": "code",
   "execution_count": null,
   "id": "058d7a88-7c25-425d-adb3-db0b84181fc6",
   "metadata": {},
   "outputs": [],
   "source": []
  }
 ],
 "metadata": {
  "kernelspec": {
   "display_name": "Python 3 (ipykernel)",
   "language": "python",
   "name": "python3"
  },
  "language_info": {
   "codemirror_mode": {
    "name": "ipython",
    "version": 3
   },
   "file_extension": ".py",
   "mimetype": "text/x-python",
   "name": "python",
   "nbconvert_exporter": "python",
   "pygments_lexer": "ipython3",
   "version": "3.10.8"
  }
 },
 "nbformat": 4,
 "nbformat_minor": 5
}
